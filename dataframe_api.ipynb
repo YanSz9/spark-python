{
 "cells": [
  {
   "cell_type": "code",
   "execution_count": 13,
   "id": "06eaa446-9403-4abc-90a8-78c41baf511d",
   "metadata": {},
   "outputs": [],
   "source": [
    "from pyspark.sql import SparkSession\n",
    "from pyspark.sql import functions as F"
   ]
  },
  {
   "cell_type": "code",
   "execution_count": 15,
   "id": "f150cbbf-e5ea-4d49-94bf-1cc0df5fb5a3",
   "metadata": {},
   "outputs": [],
   "source": [
    "spark = ( \n",
    " SparkSession\n",
    " .builder\n",
    "    .master(\"local[*]\")\n",
    " .appName('spark_dataframe_api')\n",
    " .getOrCreate()\n",
    ")"
   ]
  },
  {
   "cell_type": "code",
   "execution_count": 23,
   "id": "4c89822b-905e-4d9a-b325-9d62e9c2b513",
   "metadata": {},
   "outputs": [
    {
     "name": "stdout",
     "output_type": "stream",
     "text": [
      "root\n",
      " |-- Regiao - Sigla: string (nullable = true)\n",
      " |-- Estado - Sigla: string (nullable = true)\n",
      " |-- Municipio: string (nullable = true)\n",
      " |-- Revenda: string (nullable = true)\n",
      " |-- CNPJ da Revenda: string (nullable = true)\n",
      " |-- Nome da Rua: string (nullable = true)\n",
      " |-- Numero Rua: string (nullable = true)\n",
      " |-- Complemento: string (nullable = true)\n",
      " |-- Bairro: string (nullable = true)\n",
      " |-- Cep: string (nullable = true)\n",
      " |-- Produto: string (nullable = true)\n",
      " |-- Data da Coleta: string (nullable = true)\n",
      " |-- Valor de Venda: string (nullable = true)\n",
      " |-- Valor de Compra: string (nullable = true)\n",
      " |-- Unidade de Medida: string (nullable = true)\n",
      " |-- Bandeira: string (nullable = true)\n",
      "\n"
     ]
    }
   ],
   "source": [
    "df = (\n",
    "    spark\n",
    "    .read\n",
    "    .option('delimiter', ';')\n",
    "    .option('header', 'true')\n",
    "    .option('inferSchema', 'true')\n",
    "    .option('enconding', 'ISO-8859-1')\n",
    "    .csv('./dados/precos-gasolina-etanol-09.csv')\n",
    ")\n",
    "\n",
    "df.printSchema()"
   ]
  },
  {
   "cell_type": "code",
   "execution_count": 24,
   "id": "23cf46fd-0d78-4132-81aa-266b262dcbec",
   "metadata": {},
   "outputs": [],
   "source": [
    "df_precos = (\n",
    "    df\n",
    "    .select('Estado - Sigla', 'Produto', 'Valor de Venda', 'Unidade de Medida')\n",
    "    .withColumn(\n",
    "        \"Valor de Venda\",\n",
    "        F.regexp_replace(F.col(\"Valor de Venda\"), \",\", \".\")\n",
    "        .cast(\"float\")\n",
    "    )\n",
    ")"
   ]
  },
  {
   "cell_type": "code",
   "execution_count": 25,
   "id": "48884508-1fc9-41ce-a247-3f7ee9d04628",
   "metadata": {},
   "outputs": [
    {
     "name": "stdout",
     "output_type": "stream",
     "text": [
      "+--------------+-------+--------------+-----------------+\n",
      "|Estado - Sigla|Produto|Valor de Venda|Unidade de Medida|\n",
      "+--------------+-------+--------------+-----------------+\n",
      "+--------------+-------+--------------+-----------------+\n",
      "\n"
     ]
    }
   ],
   "source": [
    "(\n",
    "    df_precos\n",
    "    .where(\n",
    "        F.col('Valor de Compra').isNotNull()\n",
    "    )\n",
    "    .show()\n",
    ")"
   ]
  },
  {
   "cell_type": "code",
   "execution_count": 28,
   "id": "be4e356b-29b3-454d-a2ef-11b4b1641fd5",
   "metadata": {},
   "outputs": [
    {
     "name": "stdout",
     "output_type": "stream",
     "text": [
      "+--------------+------------------+--------------+-----------------+\n",
      "|Estado - Sigla|           Produto|Valor de Venda|Unidade de Medida|\n",
      "+--------------+------------------+--------------+-----------------+\n",
      "|            SP|          GASOLINA|          5.39|       R$ / litro|\n",
      "|            SP|            ETANOL|          3.49|       R$ / litro|\n",
      "|            AC|          GASOLINA|          7.17|       R$ / litro|\n",
      "|            AC|GASOLINA ADITIVADA|          7.22|       R$ / litro|\n",
      "|            AC|            ETANOL|          4.96|       R$ / litro|\n",
      "|            AL|          GASOLINA|          5.89|       R$ / litro|\n",
      "|            AL|GASOLINA ADITIVADA|          6.29|       R$ / litro|\n",
      "|            AL|            ETANOL|          4.99|       R$ / litro|\n",
      "|            AL|          GASOLINA|          5.89|       R$ / litro|\n",
      "|            AL|GASOLINA ADITIVADA|          5.99|       R$ / litro|\n",
      "|            AL|            ETANOL|          4.99|       R$ / litro|\n",
      "|            AL|          GASOLINA|          6.29|       R$ / litro|\n",
      "|            AL|GASOLINA ADITIVADA|          6.39|       R$ / litro|\n",
      "|            AL|            ETANOL|          4.89|       R$ / litro|\n",
      "|            AL|          GASOLINA|          6.29|       R$ / litro|\n",
      "|            AL|GASOLINA ADITIVADA|          6.49|       R$ / litro|\n",
      "|            AL|            ETANOL|          4.99|       R$ / litro|\n",
      "|            AL|          GASOLINA|          6.94|       R$ / litro|\n",
      "|            AL|GASOLINA ADITIVADA|          6.98|       R$ / litro|\n",
      "|            AL|            ETANOL|          5.12|       R$ / litro|\n",
      "+--------------+------------------+--------------+-----------------+\n",
      "only showing top 20 rows\n",
      "\n"
     ]
    }
   ],
   "source": [
    "df_precos.show()"
   ]
  },
  {
   "cell_type": "code",
   "execution_count": 29,
   "id": "b5b3ae08-6b6f-41c6-846e-ea14078f700a",
   "metadata": {},
   "outputs": [
    {
     "name": "stdout",
     "output_type": "stream",
     "text": [
      "+--------------+-------+--------------+-----------------+\n",
      "|Estado - Sigla|Produto|Valor de Venda|Unidade de Medida|\n",
      "+--------------+-------+--------------+-----------------+\n",
      "+--------------+-------+--------------+-----------------+\n",
      "\n"
     ]
    }
   ],
   "source": [
    "(\n",
    "    df_precos\n",
    "    .where(\n",
    "        F.col('Valor de Compra').isNotNull()\n",
    "    )\n",
    "    .show()\n",
    ")"
   ]
  },
  {
   "cell_type": "code",
   "execution_count": 30,
   "id": "2e309b3d-14ea-4d9b-8102-1dd54f83e21e",
   "metadata": {},
   "outputs": [],
   "source": [
    "df_precos = (\n",
    "    df\n",
    "    .select('Estado - Sigla', 'Produto', 'Valor de Venda', 'Unidade de Medida')\n",
    "    .withColumn(\n",
    "        \"Valor de Venda\",\n",
    "        F.regexp_replace(F.col(\"Valor de Venda\"), \",\", \".\")\n",
    "        .cast(\"float\")\n",
    "    )\n",
    ")"
   ]
  },
  {
   "cell_type": "code",
   "execution_count": 41,
   "id": "e12663ee-c72c-4a5c-8444-a350b7504e4d",
   "metadata": {},
   "outputs": [],
   "source": [
    "df_precos_analise = (\n",
    "    df_precos\n",
    "    .groupBy(\n",
    "        F.col('Estado - Sigla'),\n",
    "        F.col('Produto'),\n",
    "        F.col('Unidade de Medida')\n",
    "    )\n",
    "    .agg(\n",
    "        F.min(F.col(\"Valor de Venda\")).alias('menor_valor'),\n",
    "        F.max(F.col(\"Valor de Venda\")).alias('maior_valor')\n",
    "    )\n",
    "    .withColumn(\n",
    "        \"diferenca\",\n",
    "        F.col('maior_valor') - F.col('menor_valor')\n",
    "    )\n",
    "    .orderBy('diferenca', ascending=False)\n",
    ")"
   ]
  },
  {
   "cell_type": "code",
   "execution_count": 42,
   "id": "8abba42a-6ef1-4a76-8b91-bbe9f4c9a88f",
   "metadata": {},
   "outputs": [
    {
     "name": "stdout",
     "output_type": "stream",
     "text": [
      "+--------------+------------------+-----------------+-----------+-----------+-----------+\n",
      "|Estado - Sigla|Produto           |Unidade de Medida|menor_valor|maior_valor|diferenca  |\n",
      "+--------------+------------------+-----------------+-----------+-----------+-----------+\n",
      "|RS            |GASOLINA ADITIVADA|R$ / litro       |5.39       |9.79       |4.4        |\n",
      "|SP            |GASOLINA ADITIVADA|R$ / litro       |5.29       |8.89       |3.6000004  |\n",
      "|SP            |GASOLINA          |R$ / litro       |4.99       |7.99       |3.0        |\n",
      "|SP            |ETANOL            |R$ / litro       |3.19       |5.99       |2.7999997  |\n",
      "|RJ            |GASOLINA ADITIVADA|R$ / litro       |5.49       |7.99       |2.5        |\n",
      "|RJ            |GASOLINA          |R$ / litro       |5.39       |7.79       |2.4        |\n",
      "|RS            |GASOLINA          |R$ / litro       |5.19       |7.33       |2.1399999  |\n",
      "|SC            |ETANOL            |R$ / litro       |3.95       |6.06       |2.11       |\n",
      "|PE            |ETANOL            |R$ / litro       |3.95       |5.99       |2.0399997  |\n",
      "|RS            |ETANOL            |R$ / litro       |3.99       |5.93       |1.9399998  |\n",
      "|MG            |ETANOL            |R$ / litro       |3.49       |5.39       |1.8999999  |\n",
      "|PA            |GASOLINA          |R$ / litro       |5.45       |7.34       |1.8900003  |\n",
      "|MA            |GASOLINA ADITIVADA|R$ / litro       |5.48       |7.37       |1.8899999  |\n",
      "|MA            |ETANOL            |R$ / litro       |4.15       |6.01       |1.8600001  |\n",
      "|RJ            |ETANOL            |R$ / litro       |3.85       |5.7        |1.8499999  |\n",
      "|PE            |GASOLINA          |R$ / litro       |5.53       |7.29       |1.7599998  |\n",
      "|PB            |ETANOL            |R$ / litro       |4.13       |5.89       |1.7599998  |\n",
      "|BA            |GASOLINA ADITIVADA|R$ / litro       |5.49       |7.19       |1.7000003  |\n",
      "|MA            |GASOLINA          |R$ / litro       |5.28       |6.95       |1.6699996  |\n",
      "|RN            |ETANOL            |R$ / litro       |4.04       |5.69       |1.6500001  |\n",
      "|MG            |GASOLINA ADITIVADA|R$ / litro       |5.39       |6.99       |1.5999999  |\n",
      "|MS            |GASOLINA ADITIVADA|R$ / litro       |5.58       |7.18       |1.5999999  |\n",
      "|MS            |GASOLINA          |R$ / litro       |5.52       |7.09       |1.5700002  |\n",
      "|PA            |GASOLINA ADITIVADA|R$ / litro       |5.78       |7.35       |1.5699997  |\n",
      "|GO            |ETANOL            |R$ / litro       |3.44       |4.99       |1.5499997  |\n",
      "|PR            |GASOLINA          |R$ / litro       |5.39       |6.89       |1.5        |\n",
      "|MS            |ETANOL            |R$ / litro       |3.49       |4.98       |1.49       |\n",
      "|GO            |GASOLINA ADITIVADA|R$ / litro       |5.49       |6.97       |1.48       |\n",
      "|MG            |GASOLINA          |R$ / litro       |5.39       |6.85       |1.46       |\n",
      "|BA            |ETANOL            |R$ / litro       |3.97       |5.39       |1.4199998  |\n",
      "|PE            |GASOLINA ADITIVADA|R$ / litro       |5.59       |6.99       |1.3999996  |\n",
      "|PR            |GASOLINA ADITIVADA|R$ / litro       |5.45       |6.84       |1.3900003  |\n",
      "|PA            |ETANOL            |R$ / litro       |4.13       |5.52       |1.3899999  |\n",
      "|SE            |GASOLINA ADITIVADA|R$ / litro       |5.35       |6.73       |1.3800001  |\n",
      "|PR            |ETANOL            |R$ / litro       |3.55       |4.88       |1.3300002  |\n",
      "|CE            |GASOLINA ADITIVADA|R$ / litro       |5.67       |6.99       |1.3199997  |\n",
      "|BA            |GASOLINA          |R$ / litro       |5.48       |6.79       |1.31       |\n",
      "|CE            |GASOLINA          |R$ / litro       |5.49       |6.79       |1.3000002  |\n",
      "|ES            |GASOLINA ADITIVADA|R$ / litro       |5.87       |7.17       |1.3000002  |\n",
      "|ES            |GASOLINA          |R$ / litro       |5.59       |6.89       |1.2999997  |\n",
      "|TO            |GASOLINA ADITIVADA|R$ / litro       |5.91       |7.19       |1.2800002  |\n",
      "|AL            |GASOLINA ADITIVADA|R$ / litro       |5.99       |7.23       |1.2400002  |\n",
      "|TO            |GASOLINA          |R$ / litro       |5.65       |6.89       |1.2399998  |\n",
      "|SE            |GASOLINA          |R$ / litro       |5.25       |6.49       |1.2399998  |\n",
      "|TO            |ETANOL            |R$ / litro       |3.98       |5.19       |1.21       |\n",
      "|MT            |GASOLINA ADITIVADA|R$ / litro       |5.69       |6.89       |1.1999998  |\n",
      "|CE            |ETANOL            |R$ / litro       |4.48       |5.65       |1.1700001  |\n",
      "|AL            |GASOLINA          |R$ / litro       |5.79       |6.94       |1.1500001  |\n",
      "|RN            |GASOLINA          |R$ / litro       |5.59       |6.69       |1.0999999  |\n",
      "|SC            |GASOLINA ADITIVADA|R$ / litro       |5.59       |6.69       |1.0999999  |\n",
      "|MT            |GASOLINA          |R$ / litro       |5.63       |6.69       |1.06       |\n",
      "|GO            |GASOLINA          |R$ / litro       |5.44       |6.49       |1.0499997  |\n",
      "|RO            |GASOLINA ADITIVADA|R$ / litro       |6.29       |7.29       |1.0        |\n",
      "|ES            |ETANOL            |R$ / litro       |3.99       |4.99       |0.99999976 |\n",
      "|SC            |GASOLINA          |R$ / litro       |5.57       |6.54       |0.9699998  |\n",
      "|DF            |GASOLINA ADITIVADA|R$ / litro       |5.64       |6.59       |0.9500003  |\n",
      "|AM            |GASOLINA ADITIVADA|R$ / litro       |6.87       |7.78       |0.9100003  |\n",
      "|PI            |GASOLINA ADITIVADA|R$ / litro       |5.79       |6.69       |0.9000001  |\n",
      "|PI            |GASOLINA          |R$ / litro       |5.49       |6.39       |0.9000001  |\n",
      "|MT            |ETANOL            |R$ / litro       |3.39       |4.29       |0.89999986 |\n",
      "|RN            |GASOLINA ADITIVADA|R$ / litro       |5.79       |6.64       |0.8499999  |\n",
      "|AM            |GASOLINA          |R$ / litro       |6.85       |7.68       |0.8299999  |\n",
      "|PI            |ETANOL            |R$ / litro       |4.25       |5.05       |0.8000002  |\n",
      "|RO            |GASOLINA          |R$ / litro       |6.19       |6.98       |0.78999996 |\n",
      "|AC            |ETANOL            |R$ / litro       |4.79       |5.54       |0.75       |\n",
      "|DF            |GASOLINA          |R$ / litro       |5.49       |6.19       |0.7000003  |\n",
      "|AP            |ETANOL            |R$ / litro       |4.69       |5.39       |0.6999998  |\n",
      "|AP            |GASOLINA          |R$ / litro       |5.77       |6.46       |0.69000006 |\n",
      "|AC            |GASOLINA ADITIVADA|R$ / litro       |7.14       |7.75       |0.61000013 |\n",
      "|RO            |ETANOL            |R$ / litro       |4.79       |5.39       |0.5999999  |\n",
      "|PB            |GASOLINA          |R$ / litro       |5.89       |6.49       |0.5999999  |\n",
      "|AL            |ETANOL            |R$ / litro       |4.57       |5.12       |0.5499997  |\n",
      "|AC            |GASOLINA          |R$ / litro       |7.05       |7.55       |0.5        |\n",
      "|SE            |ETANOL            |R$ / litro       |4.49       |4.99       |0.5        |\n",
      "|PB            |GASOLINA ADITIVADA|R$ / litro       |5.98       |6.45       |0.4699998  |\n",
      "|DF            |ETANOL            |R$ / litro       |3.87       |4.33       |0.46000004 |\n",
      "|AP            |GASOLINA ADITIVADA|R$ / litro       |6.14       |6.48       |0.34000015 |\n",
      "|AM            |ETANOL            |R$ / litro       |4.59       |4.89       |0.2999997  |\n",
      "|RR            |ETANOL            |R$ / litro       |4.79       |4.87       |0.07999992 |\n",
      "|RR            |GASOLINA ADITIVADA|R$ / litro       |6.63       |6.69       |0.059999943|\n",
      "|RR            |GASOLINA          |R$ / litro       |6.57       |6.59       |0.01999998 |\n",
      "+--------------+------------------+-----------------+-----------+-----------+-----------+\n",
      "\n"
     ]
    }
   ],
   "source": [
    "df_precos_analise.show(df_precos_analise.count(), truncate=False)"
   ]
  },
  {
   "cell_type": "code",
   "execution_count": 40,
   "id": "8ec29ef1-eac9-438b-8bbf-e715bde64fe7",
   "metadata": {},
   "outputs": [
    {
     "name": "stdout",
     "output_type": "stream",
     "text": [
      "+--------------+------------------+-----------------+-----------+-----------+----------+\n",
      "|Estado - Sigla|           Produto|Unidade de Medida|menor_valor|maior_valor| diferenca|\n",
      "+--------------+------------------+-----------------+-----------+-----------+----------+\n",
      "|            ES|GASOLINA ADITIVADA|       R$ / litro|       5.87|       7.17| 1.3000002|\n",
      "|            ES|          GASOLINA|       R$ / litro|       5.59|       6.89| 1.2999997|\n",
      "|            ES|            ETANOL|       R$ / litro|       3.99|       4.99|0.99999976|\n",
      "+--------------+------------------+-----------------+-----------+-----------+----------+\n",
      "\n"
     ]
    }
   ],
   "source": [
    "df_filtrado = df_precos_analise.filter(df_precos_analise[\"Estado - Sigla\"] == \"ES\")\n",
    "df_filtrado.show()"
   ]
  }
 ],
 "metadata": {
  "kernelspec": {
   "display_name": "Python 3 (ipykernel)",
   "language": "python",
   "name": "python3"
  },
  "language_info": {
   "codemirror_mode": {
    "name": "ipython",
    "version": 3
   },
   "file_extension": ".py",
   "mimetype": "text/x-python",
   "name": "python",
   "nbconvert_exporter": "python",
   "pygments_lexer": "ipython3",
   "version": "3.11.6"
  }
 },
 "nbformat": 4,
 "nbformat_minor": 5
}
